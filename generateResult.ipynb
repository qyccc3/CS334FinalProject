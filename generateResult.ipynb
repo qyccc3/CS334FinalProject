{
 "cells": [
  {
   "cell_type": "code",
   "execution_count": 48,
   "metadata": {},
   "outputs": [],
   "source": [
    "import pandas as pd\n",
    "from sklearn.linear_model import LinearRegression, Ridge, Lasso\n",
    "from sklearn.model_selection import train_test_split, cross_val_score\n",
    "from statistics import mean\n",
    "from sklearn.metrics import mean_squared_error"
   ]
  },
  {
   "cell_type": "code",
   "execution_count": 22,
   "metadata": {},
   "outputs": [],
   "source": [
    "data = pd.read_csv('./ManualPreprocessedAmesHousing.csv')\n",
    "data = data[['Gr Liv Area', '1st Flr SF', 'Garage Area', 'Overall Qual', 'Total Bsmt SF','SalePrice']]\n",
    "X = data[['Gr Liv Area', '1st Flr SF', 'Garage Area', 'Overall Qual', 'Total Bsmt SF']]\n",
    "y = data['SalePrice']"
   ]
  },
  {
   "cell_type": "code",
   "execution_count": 23,
   "metadata": {},
   "outputs": [],
   "source": [
    "X_train, X_test, y_train, y_test = train_test_split(X, y, test_size=0.2, random_state=0)"
   ]
  },
  {
   "cell_type": "code",
   "execution_count": 24,
   "metadata": {},
   "outputs": [
    {
     "name": "stdout",
     "output_type": "stream",
     "text": [
      "0.7348711998606736\n"
     ]
    }
   ],
   "source": [
    "linearModel = LinearRegression()\n",
    "linearModel.fit(X_train, y_train)\n",
    "print(linearModel.score(X_test, y_test))"
   ]
  },
  {
   "cell_type": "code",
   "execution_count": 25,
   "metadata": {},
   "outputs": [
    {
     "name": "stdout",
     "output_type": "stream",
     "text": [
      "0.25  :  0.772569506885539\n",
      "0.5  :  0.7725693432816655\n",
      "0.75  :  0.772569177353646\n",
      "1.0  :  0.7725690091029754\n",
      "1.25  :  0.7725688385311469\n",
      "1.5  :  0.7725686656396532\n",
      "1.75  :  0.772568490429986\n",
      "2.0  :  0.7725683129036358\n",
      "Best alpha:  0.25  with score:  0.772569506885539\n"
     ]
    }
   ],
   "source": [
    "cross_val_scores_ridge = []\n",
    "ridge_alpha = []\n",
    "for i in range(1,9):\n",
    "    ridgeModel = Ridge(alpha = i * 0.25)\n",
    "    ridgeModel.fit(X_train, y_train)\n",
    "    cross_val_scores_ridge.append(mean(cross_val_score(ridgeModel, X, y, cv=5)))\n",
    "    ridge_alpha.append(i * 0.25)\n",
    "ridge_max = 0\n",
    "rideg_maxAlpha = 0\n",
    "for i in range(len(ridge_alpha)):\n",
    "    if cross_val_scores_ridge[i] > ridge_max:\n",
    "        ridge_max = cross_val_scores_ridge[i]\n",
    "        rideg_maxAlpha = ridge_alpha[i]\n",
    "    print(ridge_alpha[i], ' : ', cross_val_scores_ridge[i])\n",
    "print('Best alpha: ', rideg_maxAlpha , ' with score: ', ridge_max)\n"
   ]
  },
  {
   "cell_type": "code",
   "execution_count": 27,
   "metadata": {},
   "outputs": [
    {
     "name": "stdout",
     "output_type": "stream",
     "text": [
      "0.25  :  0.7725400905967027\n",
      "0.5  :  0.7724903879341928\n",
      "0.75  :  0.7724205301831705\n",
      "1.0  :  0.7723305672087802\n",
      "1.25  :  0.7722204427702153\n",
      "1.5  :  0.7720901904942878\n",
      "1.75  :  0.771939801019731\n",
      "2.0  :  0.7717692803581652\n",
      "Best alpha:  0.25  with score:  0.7725400905967027\n"
     ]
    }
   ],
   "source": [
    "cross_val_scores_lasso = []\n",
    "lasso_alpha = []\n",
    "for i in range(1,9):\n",
    "    lassoModel = Lasso(alpha = i * 0.25)\n",
    "    lassoModel.fit(X_train, y_train)\n",
    "    cross_val_scores_lasso.append(mean(cross_val_score(lassoModel, X, y, cv=5)))\n",
    "    lasso_alpha.append(i * 0.25)\n",
    "lasso_max = 0\n",
    "lasso_maxAlpha = 0\n",
    "for i in range(len(lasso_alpha)):\n",
    "    if cross_val_scores_lasso[i] > lasso_max:\n",
    "        lasso_max = cross_val_scores_lasso[i]\n",
    "        lasso_maxAlpha = lasso_alpha[i]\n",
    "    print(lasso_alpha[i], ' : ', cross_val_scores_lasso[i])\n",
    "print('Best alpha: ', lasso_maxAlpha , ' with score: ', lasso_max)"
   ]
  },
  {
   "cell_type": "code",
   "execution_count": 47,
   "metadata": {},
   "outputs": [],
   "source": [
    "# Hyper parameter for ridge model alpha = 0.25 \n",
    "# Hyper parameter for lasso model alpha = 0.25\n",
    "dataset = pd.read_csv('./ManualPreprocessedAmesHousing.csv')\n",
    "dataset = dataset[['Gr Liv Area', '1st Flr SF', 'Garage Area', 'Overall Qual', 'Total Bsmt SF','SalePrice']]\n",
    "X = dataset[['Gr Liv Area', '1st Flr SF', 'Garage Area', 'Overall Qual', 'Total Bsmt SF']]\n",
    "y = dataset['SalePrice']"
   ]
  },
  {
   "cell_type": "code",
   "execution_count": 53,
   "metadata": {},
   "outputs": [
    {
     "name": "stdout",
     "output_type": "stream",
     "text": [
      "Linear Regression Coefficients:  [4.49594928e+01 1.91467954e+01 5.36670731e+01 2.48194719e+04\n",
      " 2.52324190e+01]\n",
      "Linear Regression MSE:  1740.622558774348\n",
      "Linear Regression R2:  0.7348711998606736\n",
      "Ridge Regression MSE:  1740.6367419672715\n",
      "Ridge Regression R2:  0.7348690394997711\n",
      "Lasso Regression MSE:  1742.0091944400904\n",
      "Lasso Regression R2:  0.7346599897689535\n"
     ]
    }
   ],
   "source": [
    "x_train, x_test, y_train, y_test = train_test_split(X, y, test_size=0.2, random_state=0)\n",
    "\n",
    "# Linear Regression\n",
    "linearModel = LinearRegression()\n",
    "linearModel.fit(x_train, y_train)\n",
    "# linear regression coefficients\n",
    "print('Linear Regression Coefficients: ', linearModel.coef_ * 1000)\n",
    "print('Linear Regression MSE: ', mean_squared_error(y_test, linearModel.predict(x_test)))\n",
    "print('Linear Regression R2: ', linearModel.score(x_test, y_test))\n",
    "\n",
    "# Ridge Regression\n",
    "ridgeModel = Ridge(alpha = 0.25)\n",
    "ridgeModel.fit(x_train, y_train)\n",
    "print('Ridge Regression MSE: ', mean_squared_error(y_test, ridgeModel.predict(x_test)))\n",
    "print('Ridge Regression R2: ', ridgeModel.score(x_test, y_test))\n",
    "\n",
    "# Lasso Regression\n",
    "lassoModel = Lasso(alpha = 0.25)\n",
    "lassoModel.fit(x_train, y_train)\n",
    "print('Lasso Regression MSE: ', mean_squared_error(y_test, lassoModel.predict(x_test)))\n",
    "print('Lasso Regression R2: ', lassoModel.score(x_test, y_test))"
   ]
  },
  {
   "cell_type": "code",
   "execution_count": 54,
   "metadata": {},
   "outputs": [
    {
     "data": {
      "text/html": [
       "<div>\n",
       "<style scoped>\n",
       "    .dataframe tbody tr th:only-of-type {\n",
       "        vertical-align: middle;\n",
       "    }\n",
       "\n",
       "    .dataframe tbody tr th {\n",
       "        vertical-align: top;\n",
       "    }\n",
       "\n",
       "    .dataframe thead th {\n",
       "        text-align: right;\n",
       "    }\n",
       "</style>\n",
       "<table border=\"1\" class=\"dataframe\">\n",
       "  <thead>\n",
       "    <tr style=\"text-align: right;\">\n",
       "      <th></th>\n",
       "      <th>Gr Liv Area</th>\n",
       "      <th>1st Flr SF</th>\n",
       "      <th>Garage Area</th>\n",
       "      <th>Overall Qual</th>\n",
       "      <th>Total Bsmt SF</th>\n",
       "    </tr>\n",
       "  </thead>\n",
       "  <tbody>\n",
       "    <tr>\n",
       "      <th>2073</th>\n",
       "      <td>2060</td>\n",
       "      <td>1164</td>\n",
       "      <td>521</td>\n",
       "      <td>6</td>\n",
       "      <td>1151</td>\n",
       "    </tr>\n",
       "    <tr>\n",
       "      <th>2754</th>\n",
       "      <td>1614</td>\n",
       "      <td>1614</td>\n",
       "      <td>865</td>\n",
       "      <td>7</td>\n",
       "      <td>1614</td>\n",
       "    </tr>\n",
       "    <tr>\n",
       "      <th>1282</th>\n",
       "      <td>1117</td>\n",
       "      <td>1117</td>\n",
       "      <td>264</td>\n",
       "      <td>5</td>\n",
       "      <td>1117</td>\n",
       "    </tr>\n",
       "    <tr>\n",
       "      <th>1572</th>\n",
       "      <td>2898</td>\n",
       "      <td>2898</td>\n",
       "      <td>665</td>\n",
       "      <td>8</td>\n",
       "      <td>1565</td>\n",
       "    </tr>\n",
       "    <tr>\n",
       "      <th>641</th>\n",
       "      <td>1866</td>\n",
       "      <td>1866</td>\n",
       "      <td>495</td>\n",
       "      <td>5</td>\n",
       "      <td>1866</td>\n",
       "    </tr>\n",
       "  </tbody>\n",
       "</table>\n",
       "</div>"
      ],
      "text/plain": [
       "      Gr Liv Area  1st Flr SF  Garage Area  Overall Qual  Total Bsmt SF\n",
       "2073         2060        1164          521             6           1151\n",
       "2754         1614        1614          865             7           1614\n",
       "1282         1117        1117          264             5           1117\n",
       "1572         2898        2898          665             8           1565\n",
       "641          1866        1866          495             5           1866"
      ]
     },
     "execution_count": 54,
     "metadata": {},
     "output_type": "execute_result"
    }
   ],
   "source": [
    "x_train.head()"
   ]
  },
  {
   "cell_type": "markdown",
   "metadata": {},
   "source": [
    "$$ 45 \\times Gr Liv Area + 19 \\times 1st Flr SF + 54 \\times Garage Area + 25 \\times Overall Qual + 25 \\times Total Bsmt SF$$"
   ]
  },
  {
   "cell_type": "code",
   "execution_count": 51,
   "metadata": {},
   "outputs": [
    {
     "name": "stdout",
     "output_type": "stream",
     "text": [
      "Linear Regression MSE:  2972.3890403618366\n",
      "Linear Regression R2:  0.5472505306530493\n",
      "Ridge Regression MSE:  2972.38904004436\n",
      "Ridge Regression R2:  0.5472505307014067\n",
      "Lasso Regression MSE:  2972.3850198464374\n",
      "Lasso Regression R2:  0.5472511430514226\n"
     ]
    }
   ],
   "source": [
    "from sklearn.decomposition import PCA\n",
    "x_train_pca = PCA(n_components=2).fit_transform(x_train)\n",
    "x_test_pca = PCA(n_components=2).fit_transform(x_test)\n",
    "\n",
    "# Linear Regression\n",
    "linearModel = LinearRegression()\n",
    "linearModel.fit(x_train_pca, y_train)\n",
    "print('Linear Regression MSE: ', mean_squared_error(y_test, linearModel.predict(x_test_pca)))\n",
    "print('Linear Regression R2: ', linearModel.score(x_test_pca, y_test))\n",
    "\n",
    "# Ridge Regression\n",
    "ridgeModel = Ridge(alpha = 0.25)\n",
    "ridgeModel.fit(x_train_pca, y_train)\n",
    "print('Ridge Regression MSE: ', mean_squared_error(y_test, ridgeModel.predict(x_test_pca)))\n",
    "print('Ridge Regression R2: ', ridgeModel.score(x_test_pca, y_test))\n",
    "\n",
    "# Lasso Regression\n",
    "lassoModel = Lasso(alpha = 0.25)\n",
    "lassoModel.fit(x_train_pca, y_train)\n",
    "print('Lasso Regression MSE: ', mean_squared_error(y_test, lassoModel.predict(x_test_pca)))\n",
    "print('Lasso Regression R2: ', lassoModel.score(x_test_pca, y_test))"
   ]
  },
  {
   "cell_type": "markdown",
   "metadata": {},
   "source": [
    "# Decision Tree"
   ]
  },
  {
   "cell_type": "code",
   "execution_count": 45,
   "metadata": {},
   "outputs": [],
   "source": [
    "from sklearn.tree import DecisionTreeClassifier\n",
    "from sklearn.model_selection import train_test_split, cross_val_score\n",
    "from sklearn import metrics\n",
    "from sklearn.metrics import roc_auc_score\n",
    "from sklearn.decomposition import PCA"
   ]
  },
  {
   "cell_type": "code",
   "execution_count": 33,
   "metadata": {},
   "outputs": [],
   "source": [
    "data = pd.read_csv('./ManualPreprocessedAmesHousingClassification.csv')\n",
    "data = data[['Gr Liv Area', '1st Flr SF', 'Garage Area', 'Overall Qual', 'Total Bsmt SF','SalePrice']]\n",
    "X = data[['Gr Liv Area', '1st Flr SF', 'Garage Area', 'Overall Qual', 'Total Bsmt SF']]\n",
    "y = data['SalePrice']"
   ]
  },
  {
   "cell_type": "code",
   "execution_count": 43,
   "metadata": {},
   "outputs": [
    {
     "name": "stdout",
     "output_type": "stream",
     "text": [
      "Original Dataset: \n",
      "Accuracy: 0.6604095563139932\n",
      "ROC_AUC score:  0.884023389385133\n"
     ]
    }
   ],
   "source": [
    "print(\"Original Dataset: \")\n",
    "x_train, x_test, y_train, y_test = train_test_split(X, y, test_size=0.2, random_state=0)\n",
    "dt = DecisionTreeClassifier(criterion=\"gini\", max_depth=6,min_samples_leaf=11)\n",
    "dt.fit(x_train, y_train)\n",
    "y_pred = dt.predict(x_test)\n",
    "print(\"Accuracy:\",metrics.accuracy_score(y_test, y_pred))\n",
    "\n",
    "# calculate the fpr and tpr for all thresholds of the classification\n",
    "print(\"ROC_AUC score: \", roc_auc_score(y_test, dt.predict_proba(x_test), multi_class='ovr'))"
   ]
  },
  {
   "cell_type": "code",
   "execution_count": 46,
   "metadata": {},
   "outputs": [
    {
     "name": "stdout",
     "output_type": "stream",
     "text": [
      "PCA Dataset: \n",
      "Accuracy: 0.568259385665529\n",
      "ROC_AUC score:  0.8259740155589025\n"
     ]
    }
   ],
   "source": [
    "print(\"PCA Dataset: \")\n",
    "x_train, x_test, y_train, y_test = train_test_split(X, y, test_size=0.2, random_state=0)\n",
    "pca_x_train = PCA(n_components=2).fit_transform(x_train)\n",
    "pca_x_test = PCA(n_components=2).fit_transform(x_test)\n",
    "dt = DecisionTreeClassifier(criterion=\"gini\", max_depth=6,min_samples_leaf=11)\n",
    "dt.fit(pca_x_train, y_train)\n",
    "y_pred_pca = dt.predict(pca_x_test)\n",
    "print(\"Accuracy:\",metrics.accuracy_score(y_test, y_pred_pca))\n",
    "# calculate the fpr and tpr for all thresholds of the classification\n",
    "print(\"ROC_AUC score: \", roc_auc_score(y_test, dt.predict_proba(pca_x_test), multi_class='ovr'))"
   ]
  },
  {
   "cell_type": "code",
   "execution_count": null,
   "metadata": {},
   "outputs": [],
   "source": []
  }
 ],
 "metadata": {
  "kernelspec": {
   "display_name": "Python 3.10.0 64-bit",
   "language": "python",
   "name": "python3"
  },
  "language_info": {
   "codemirror_mode": {
    "name": "ipython",
    "version": 3
   },
   "file_extension": ".py",
   "mimetype": "text/x-python",
   "name": "python",
   "nbconvert_exporter": "python",
   "pygments_lexer": "ipython3",
   "version": "3.10.0"
  },
  "orig_nbformat": 4,
  "vscode": {
   "interpreter": {
    "hash": "949777d72b0d2535278d3dc13498b2535136f6dfe0678499012e853ee9abcab1"
   }
  }
 },
 "nbformat": 4,
 "nbformat_minor": 2
}
