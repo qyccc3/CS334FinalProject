{
 "cells": [
  {
   "cell_type": "code",
   "execution_count": 1,
   "metadata": {},
   "outputs": [],
   "source": [
    "import pandas as pd\n",
    "import numpy as np\n",
    "from sklearn.model_selection import train_test_split\n",
    "from sklearn.tree import DecisionTreeClassifier\n",
    "from sklearn.metrics import accuracy_score\n",
    "from sklearn.metrics import mean_squared_error\n",
    "import matplotlib.pyplot as plt\n",
    "from sklearn import tree\n",
    "import graphviz"
   ]
  },
  {
   "cell_type": "code",
   "execution_count": 2,
   "metadata": {},
   "outputs": [
    {
     "data": {
      "text/html": [
       "<div>\n",
       "<style scoped>\n",
       "    .dataframe tbody tr th:only-of-type {\n",
       "        vertical-align: middle;\n",
       "    }\n",
       "\n",
       "    .dataframe tbody tr th {\n",
       "        vertical-align: top;\n",
       "    }\n",
       "\n",
       "    .dataframe thead th {\n",
       "        text-align: right;\n",
       "    }\n",
       "</style>\n",
       "<table border=\"1\" class=\"dataframe\">\n",
       "  <thead>\n",
       "    <tr style=\"text-align: right;\">\n",
       "      <th></th>\n",
       "      <th>Gr Liv Area</th>\n",
       "      <th>1st Flr SF</th>\n",
       "      <th>Garage Area</th>\n",
       "      <th>Overall Qual</th>\n",
       "      <th>Total Bsmt SF</th>\n",
       "      <th>SalePrice</th>\n",
       "    </tr>\n",
       "  </thead>\n",
       "  <tbody>\n",
       "    <tr>\n",
       "      <th>0</th>\n",
       "      <td>1656</td>\n",
       "      <td>1656</td>\n",
       "      <td>528</td>\n",
       "      <td>6</td>\n",
       "      <td>1080</td>\n",
       "      <td>3.0</td>\n",
       "    </tr>\n",
       "    <tr>\n",
       "      <th>1</th>\n",
       "      <td>896</td>\n",
       "      <td>896</td>\n",
       "      <td>730</td>\n",
       "      <td>5</td>\n",
       "      <td>882</td>\n",
       "      <td>0.0</td>\n",
       "    </tr>\n",
       "    <tr>\n",
       "      <th>2</th>\n",
       "      <td>1329</td>\n",
       "      <td>1329</td>\n",
       "      <td>312</td>\n",
       "      <td>6</td>\n",
       "      <td>1329</td>\n",
       "      <td>2.0</td>\n",
       "    </tr>\n",
       "    <tr>\n",
       "      <th>3</th>\n",
       "      <td>2110</td>\n",
       "      <td>2110</td>\n",
       "      <td>522</td>\n",
       "      <td>7</td>\n",
       "      <td>2110</td>\n",
       "      <td>3.0</td>\n",
       "    </tr>\n",
       "    <tr>\n",
       "      <th>4</th>\n",
       "      <td>1629</td>\n",
       "      <td>928</td>\n",
       "      <td>482</td>\n",
       "      <td>5</td>\n",
       "      <td>928</td>\n",
       "      <td>2.0</td>\n",
       "    </tr>\n",
       "  </tbody>\n",
       "</table>\n",
       "</div>"
      ],
      "text/plain": [
       "   Gr Liv Area  1st Flr SF  Garage Area  Overall Qual  Total Bsmt SF  \\\n",
       "0         1656        1656          528             6           1080   \n",
       "1          896         896          730             5            882   \n",
       "2         1329        1329          312             6           1329   \n",
       "3         2110        2110          522             7           2110   \n",
       "4         1629         928          482             5            928   \n",
       "\n",
       "   SalePrice  \n",
       "0        3.0  \n",
       "1        0.0  \n",
       "2        2.0  \n",
       "3        3.0  \n",
       "4        2.0  "
      ]
     },
     "execution_count": 2,
     "metadata": {},
     "output_type": "execute_result"
    }
   ],
   "source": [
    "dataset = pd.get_dummies(pd.read_csv(\"./ManualPreprocessedAmesHousingClassification.csv\"))\n",
    "dataset = dataset[['Gr Liv Area', '1st Flr SF', 'Garage Area', 'Overall Qual', 'Total Bsmt SF','SalePrice']]\n",
    "dataset.head()"
   ]
  },
  {
   "cell_type": "code",
   "execution_count": 3,
   "metadata": {},
   "outputs": [
    {
     "data": {
      "text/plain": [
       "10"
      ]
     },
     "execution_count": 3,
     "metadata": {},
     "output_type": "execute_result"
    }
   ],
   "source": [
    "# using kFold cross validation\n",
    "from sklearn.model_selection import KFold\n",
    "\n",
    "kf = KFold(n_splits=10, random_state=100, shuffle=True)\n",
    "kf.get_n_splits(dataset)"
   ]
  },
  {
   "cell_type": "code",
   "execution_count": 4,
   "metadata": {},
   "outputs": [
    {
     "data": {
      "image/png": "[encoded data removed]",
      "text/plain": [
       "<Figure size 432x288 with 1 Axes>"
      ]
     },
     "metadata": {
      "needs_background": "light"
     },
     "output_type": "display_data"
    }
   ],
   "source": [
    "depth = range(1,20)\n",
    "accuracy = []\n",
    "for max_d in depth:\n",
    "    avg_accuracy = 0\n",
    "    for train, test in kf.split(dataset):\n",
    "        train_data = dataset.iloc[train]\n",
    "        test_data = dataset.iloc[test]\n",
    "        dt = DecisionTreeClassifier(criterion='gini', max_depth=max_d, random_state=100)\n",
    "        dt.fit(train_data.drop('SalePrice', axis=1), train_data['SalePrice'])\n",
    "        y_pred = dt.predict(test_data.drop('SalePrice', axis=1))\n",
    "        # find average\n",
    "        avg_accuracy += accuracy_score(test_data['SalePrice'], y_pred)\n",
    "    accuracy.append(avg_accuracy/10*100)\n",
    "plt.plot(depth, accuracy)\n",
    "plt.xticks(depth)\n",
    "plt.xlabel('Max Depth')\n",
    "plt.ylabel('Accuracy')\n",
    "plt.title('Accuracy vs Max Depth using Gini Index')\n",
    "plt.show()"
   ]
  },
  {
   "cell_type": "code",
   "execution_count": 5,
   "metadata": {},
   "outputs": [
    {
     "data": {
      "image/png": "[encoded data removed]",
      "text/plain": [
       "<Figure size 432x288 with 1 Axes>"
      ]
     },
     "metadata": {
      "needs_background": "light"
     },
     "output_type": "display_data"
    }
   ],
   "source": [
    "minLeafSample = range(1,20)\n",
    "accuracy = []\n",
    "for sample in minLeafSample:\n",
    "    avg_accuracy = 0\n",
    "    for train, test in kf.split(dataset):\n",
    "        train_data = dataset.iloc[train]\n",
    "        test_data = dataset.iloc[test]\n",
    "        dt = DecisionTreeClassifier(criterion='gini', max_depth=6, min_samples_leaf=sample, random_state=100)\n",
    "        dt.fit(train_data.drop('SalePrice', axis=1), train_data['SalePrice'])\n",
    "        y_pred = dt.predict(test_data.drop('SalePrice', axis=1))\n",
    "        # find average\n",
    "        avg_accuracy += accuracy_score(test_data['SalePrice'], y_pred)\n",
    "    accuracy.append(avg_accuracy/10*100)\n",
    "plt.plot(depth, accuracy)\n",
    "plt.xticks(depth)\n",
    "plt.xlabel('Min Leaf Sample')\n",
    "plt.ylabel('Accuracy')\n",
    "plt.title('Accuracy vs Min Leaf Sample using Gini Index')\n",
    "plt.show()"
   ]
  },
  {
   "cell_type": "code",
   "execution_count": 19,
   "metadata": {},
   "outputs": [
    {
     "name": "stdout",
     "output_type": "stream",
     "text": [
      "10 Fold Cross Validation Using Gini Index, Max Depth 6, Min Leaf Sample 11\n",
      "\tAverage accuracy is  68.4641638225256\n",
      "10 Fold Cross Validation Using Entropy, Max Depth 6, Min Leaf Sample 11\n",
      "\tAverage accuracy is  67.16723549488054\n"
     ]
    }
   ],
   "source": [
    "avg_accuracy = 0\n",
    "print(\"10 Fold Cross Validation Using Gini Index, Max Depth 6, Min Leaf Sample 11\")\n",
    "for train, test in kf.split(dataset):\n",
    "    train_data = dataset.iloc[train]\n",
    "    test_data = dataset.iloc[test]\n",
    "    dt = DecisionTreeClassifier(criterion='gini', max_depth=6, random_state=100, min_samples_leaf=11)\n",
    "    dt.fit(train_data.drop('SalePrice', axis=1), train_data['SalePrice'])\n",
    "    y_pred = dt.predict(test_data.drop('SalePrice', axis=1))\n",
    "    # find average\n",
    "    avg_accuracy += accuracy_score(test_data['SalePrice'], y_pred)\n",
    "    # print(\"\\tAccuracy is \", accuracy_score(test_data['SalePrice'], y_pred)*100)\n",
    "print(\"\\tAverage accuracy is \", avg_accuracy/10*100)\n",
    "\n",
    "avg_accuracy = 0\n",
    "print(\"10 Fold Cross Validation Using Entropy, Max Depth 6, Min Leaf Sample 11\")\n",
    "for train, test in kf.split(dataset):\n",
    "    train_data = dataset.iloc[train]\n",
    "    test_data = dataset.iloc[test]\n",
    "    dt = DecisionTreeClassifier(criterion='entropy', max_depth=6, random_state=100, min_samples_leaf=11)\n",
    "    dt.fit(train_data.drop('SalePrice', axis=1), train_data['SalePrice'])\n",
    "    y_pred = dt.predict(test_data.drop('SalePrice', axis=1))\n",
    "    # find average\n",
    "    avg_accuracy += accuracy_score(test_data['SalePrice'], y_pred)\n",
    "    # print(\"\\tAccuracy is \", accuracy_score(test_data['SalePrice'], y_pred)*100)\n",
    "print(\"\\tAverage accuracy is \", avg_accuracy/10*100)"
   ]
  },
  {
   "cell_type": "code",
   "execution_count": 17,
   "metadata": {},
   "outputs": [
    {
     "name": "stdout",
     "output_type": "stream",
     "text": [
      "10 Fold Cross Validation Using Entropy, Max Depth 6, Min Leaf Sample 11\n",
      "Average accuracy is  67.16723549488054\n"
     ]
    }
   ],
   "source": []
  },
  {
   "cell_type": "code",
   "execution_count": 15,
   "metadata": {},
   "outputs": [
    {
     "name": "stdout",
     "output_type": "stream",
     "text": [
      "Accuracy is  67.57679180887372\n"
     ]
    }
   ],
   "source": [
    "# Best Max Depth is 10, using Gini Index\n",
    "dt = DecisionTreeClassifier(criterion='gini', max_depth=6, random_state=1240, min_samples_leaf=11)\n",
    "dt.fit(train_data.drop('SalePrice', axis=1), train_data['SalePrice'])\n",
    "y_pred = dt.predict(test_data.drop('SalePrice', axis=1))\n",
    "print(\"Accuracy is \", accuracy_score(test_data['SalePrice'], y_pred)*100)"
   ]
  },
  {
   "cell_type": "code",
   "execution_count": 12,
   "metadata": {},
   "outputs": [
    {
     "data": {
      "text/plain": [
       "'dt-max5-gini.pdf'"
      ]
     },
     "execution_count": 12,
     "metadata": {},
     "output_type": "execute_result"
    }
   ],
   "source": [
    "class_names = ['0', '1', '2', '3']\n",
    "dot_data = tree.export_graphviz(dt, out_file=None,\n",
    "                                feature_names = train_data.drop('SalePrice', axis=1).columns,\n",
    "                                class_names = class_names,\n",
    "                                filled = True, rounded = True,\n",
    "                                special_characters = True)\n",
    "graph = graphviz.Source(dot_data) \n",
    "graph.render(\"dt-max5-gini\")"
   ]
  },
  {
   "cell_type": "code",
   "execution_count": null,
   "metadata": {},
   "outputs": [],
   "source": []
  },
  {
   "cell_type": "code",
   "execution_count": null,
   "metadata": {},
   "outputs": [],
   "source": []
  }
 ],
 "metadata": {
  "kernelspec": {
   "display_name": "Python 3.9.10 ('base')",
   "language": "python",
   "name": "python3"
  },
  "language_info": {
   "codemirror_mode": {
    "name": "ipython",
    "version": 3
   },
   "file_extension": ".py",
   "mimetype": "text/x-python",
   "name": "python",
   "nbconvert_exporter": "python",
   "pygments_lexer": "ipython3",
   "version": "3.9.10"
  },
  "orig_nbformat": 4,
  "vscode": {
   "interpreter": {
    "hash": "fbc780b87d7a1d06c3b1a4108f8ae800990f441869edea8e8a51bb3e8cfd0153"
   }
  }
 },
 "nbformat": 4,
 "nbformat_minor": 2
}
