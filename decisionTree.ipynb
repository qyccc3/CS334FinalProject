{
 "cells": [
  {
   "cell_type": "code",
   "execution_count": 2,
   "metadata": {},
   "outputs": [],
   "source": [
    "import pandas as pd\n",
    "import numpy as np\n",
    "from sklearn.model_selection import train_test_split\n",
    "from sklearn.tree import DecisionTreeClassifier\n",
    "from sklearn.metrics import accuracy_score\n",
    "from sklearn.metrics import mean_squared_error\n",
    "import matplotlib.pyplot as plt\n",
    "from sklearn import tree\n",
    "import graphviz"
   ]
  },
  {
   "cell_type": "code",
   "execution_count": 3,
   "metadata": {},
   "outputs": [
    {
     "data": {
      "text/html": [
       "<div>\n",
       "<style scoped>\n",
       "    .dataframe tbody tr th:only-of-type {\n",
       "        vertical-align: middle;\n",
       "    }\n",
       "\n",
       "    .dataframe tbody tr th {\n",
       "        vertical-align: top;\n",
       "    }\n",
       "\n",
       "    .dataframe thead th {\n",
       "        text-align: right;\n",
       "    }\n",
       "</style>\n",
       "<table border=\"1\" class=\"dataframe\">\n",
       "  <thead>\n",
       "    <tr style=\"text-align: right;\">\n",
       "      <th></th>\n",
       "      <th>Unnamed: 0</th>\n",
       "      <th>MS SubClass</th>\n",
       "      <th>Lot Frontage</th>\n",
       "      <th>Lot Area</th>\n",
       "      <th>Overall Qual</th>\n",
       "      <th>Overall Cond</th>\n",
       "      <th>Year Built</th>\n",
       "      <th>Mas Vnr Area</th>\n",
       "      <th>BsmtFin SF 1</th>\n",
       "      <th>BsmtFin SF 2</th>\n",
       "      <th>...</th>\n",
       "      <th>Sale Type_New</th>\n",
       "      <th>Sale Type_Oth</th>\n",
       "      <th>Sale Type_VWD</th>\n",
       "      <th>Sale Type_WD</th>\n",
       "      <th>Sale Condition_Abnorml</th>\n",
       "      <th>Sale Condition_AdjLand</th>\n",
       "      <th>Sale Condition_Alloca</th>\n",
       "      <th>Sale Condition_Family</th>\n",
       "      <th>Sale Condition_Normal</th>\n",
       "      <th>Sale Condition_Partial</th>\n",
       "    </tr>\n",
       "  </thead>\n",
       "  <tbody>\n",
       "    <tr>\n",
       "      <th>0</th>\n",
       "      <td>0</td>\n",
       "      <td>20</td>\n",
       "      <td>141</td>\n",
       "      <td>31770</td>\n",
       "      <td>6</td>\n",
       "      <td>5</td>\n",
       "      <td>1960</td>\n",
       "      <td>112</td>\n",
       "      <td>639</td>\n",
       "      <td>0</td>\n",
       "      <td>...</td>\n",
       "      <td>0</td>\n",
       "      <td>0</td>\n",
       "      <td>0</td>\n",
       "      <td>1</td>\n",
       "      <td>0</td>\n",
       "      <td>0</td>\n",
       "      <td>0</td>\n",
       "      <td>0</td>\n",
       "      <td>1</td>\n",
       "      <td>0</td>\n",
       "    </tr>\n",
       "    <tr>\n",
       "      <th>1</th>\n",
       "      <td>1</td>\n",
       "      <td>20</td>\n",
       "      <td>80</td>\n",
       "      <td>11622</td>\n",
       "      <td>5</td>\n",
       "      <td>6</td>\n",
       "      <td>1961</td>\n",
       "      <td>0</td>\n",
       "      <td>468</td>\n",
       "      <td>144</td>\n",
       "      <td>...</td>\n",
       "      <td>0</td>\n",
       "      <td>0</td>\n",
       "      <td>0</td>\n",
       "      <td>1</td>\n",
       "      <td>0</td>\n",
       "      <td>0</td>\n",
       "      <td>0</td>\n",
       "      <td>0</td>\n",
       "      <td>1</td>\n",
       "      <td>0</td>\n",
       "    </tr>\n",
       "    <tr>\n",
       "      <th>2</th>\n",
       "      <td>2</td>\n",
       "      <td>20</td>\n",
       "      <td>81</td>\n",
       "      <td>14267</td>\n",
       "      <td>6</td>\n",
       "      <td>6</td>\n",
       "      <td>1958</td>\n",
       "      <td>108</td>\n",
       "      <td>923</td>\n",
       "      <td>0</td>\n",
       "      <td>...</td>\n",
       "      <td>0</td>\n",
       "      <td>0</td>\n",
       "      <td>0</td>\n",
       "      <td>1</td>\n",
       "      <td>0</td>\n",
       "      <td>0</td>\n",
       "      <td>0</td>\n",
       "      <td>0</td>\n",
       "      <td>1</td>\n",
       "      <td>0</td>\n",
       "    </tr>\n",
       "    <tr>\n",
       "      <th>3</th>\n",
       "      <td>3</td>\n",
       "      <td>20</td>\n",
       "      <td>93</td>\n",
       "      <td>11160</td>\n",
       "      <td>7</td>\n",
       "      <td>5</td>\n",
       "      <td>1968</td>\n",
       "      <td>0</td>\n",
       "      <td>1065</td>\n",
       "      <td>0</td>\n",
       "      <td>...</td>\n",
       "      <td>0</td>\n",
       "      <td>0</td>\n",
       "      <td>0</td>\n",
       "      <td>1</td>\n",
       "      <td>0</td>\n",
       "      <td>0</td>\n",
       "      <td>0</td>\n",
       "      <td>0</td>\n",
       "      <td>1</td>\n",
       "      <td>0</td>\n",
       "    </tr>\n",
       "    <tr>\n",
       "      <th>4</th>\n",
       "      <td>4</td>\n",
       "      <td>60</td>\n",
       "      <td>74</td>\n",
       "      <td>13830</td>\n",
       "      <td>5</td>\n",
       "      <td>5</td>\n",
       "      <td>1997</td>\n",
       "      <td>0</td>\n",
       "      <td>791</td>\n",
       "      <td>0</td>\n",
       "      <td>...</td>\n",
       "      <td>0</td>\n",
       "      <td>0</td>\n",
       "      <td>0</td>\n",
       "      <td>1</td>\n",
       "      <td>0</td>\n",
       "      <td>0</td>\n",
       "      <td>0</td>\n",
       "      <td>0</td>\n",
       "      <td>1</td>\n",
       "      <td>0</td>\n",
       "    </tr>\n",
       "  </tbody>\n",
       "</table>\n",
       "<p>5 rows × 178 columns</p>\n",
       "</div>"
      ],
      "text/plain": [
       "   Unnamed: 0  MS SubClass  Lot Frontage  Lot Area  Overall Qual  \\\n",
       "0           0           20           141     31770             6   \n",
       "1           1           20            80     11622             5   \n",
       "2           2           20            81     14267             6   \n",
       "3           3           20            93     11160             7   \n",
       "4           4           60            74     13830             5   \n",
       "\n",
       "   Overall Cond  Year Built  Mas Vnr Area  BsmtFin SF 1  BsmtFin SF 2  ...  \\\n",
       "0             5        1960           112           639             0  ...   \n",
       "1             6        1961             0           468           144  ...   \n",
       "2             6        1958           108           923             0  ...   \n",
       "3             5        1968             0          1065             0  ...   \n",
       "4             5        1997             0           791             0  ...   \n",
       "\n",
       "   Sale Type_New  Sale Type_Oth  Sale Type_VWD  Sale Type_WD   \\\n",
       "0              0              0              0              1   \n",
       "1              0              0              0              1   \n",
       "2              0              0              0              1   \n",
       "3              0              0              0              1   \n",
       "4              0              0              0              1   \n",
       "\n",
       "   Sale Condition_Abnorml  Sale Condition_AdjLand  Sale Condition_Alloca  \\\n",
       "0                       0                       0                      0   \n",
       "1                       0                       0                      0   \n",
       "2                       0                       0                      0   \n",
       "3                       0                       0                      0   \n",
       "4                       0                       0                      0   \n",
       "\n",
       "   Sale Condition_Family  Sale Condition_Normal  Sale Condition_Partial  \n",
       "0                      0                      1                       0  \n",
       "1                      0                      1                       0  \n",
       "2                      0                      1                       0  \n",
       "3                      0                      1                       0  \n",
       "4                      0                      1                       0  \n",
       "\n",
       "[5 rows x 178 columns]"
      ]
     },
     "execution_count": 3,
     "metadata": {},
     "output_type": "execute_result"
    }
   ],
   "source": [
    "dataset = pd.get_dummies(pd.read_csv(\"./ManualPreprocessedAmesHousingClassification.csv\"))\n",
    "dataset.head()"
   ]
  },
  {
   "cell_type": "code",
   "execution_count": 4,
   "metadata": {},
   "outputs": [
    {
     "data": {
      "text/plain": [
       "10"
      ]
     },
     "execution_count": 4,
     "metadata": {},
     "output_type": "execute_result"
    }
   ],
   "source": [
    "# using kFold cross validation\n",
    "from sklearn.model_selection import KFold\n",
    "\n",
    "kf = KFold(n_splits=10, random_state=100, shuffle=True)\n",
    "kf.get_n_splits(dataset)"
   ]
  },
  {
   "cell_type": "code",
   "execution_count": 14,
   "metadata": {},
   "outputs": [
    {
     "data": {
      "image/png": "[encoded data removed]",
      "text/plain": [
       "<Figure size 432x288 with 1 Axes>"
      ]
     },
     "metadata": {
      "needs_background": "light"
     },
     "output_type": "display_data"
    }
   ],
   "source": [
    "depth = range(1,20)\n",
    "accuracy = []\n",
    "for max_d in depth:\n",
    "    avg_accuracy = 0\n",
    "    for train, test in kf.split(dataset):\n",
    "        train_data = dataset.iloc[train]\n",
    "        test_data = dataset.iloc[test]\n",
    "        dt = DecisionTreeClassifier(criterion='gini', max_depth=max_d, random_state=100)\n",
    "        dt.fit(train_data.drop('SalePrice', axis=1), train_data['SalePrice'])\n",
    "        y_pred = dt.predict(test_data.drop('SalePrice', axis=1))\n",
    "        # find average\n",
    "        avg_accuracy += accuracy_score(test_data['SalePrice'], y_pred)\n",
    "    accuracy.append(avg_accuracy/10*100)\n",
    "plt.plot(depth, accuracy)\n",
    "plt.xticks(depth)\n",
    "plt.xlabel('Max Depth')\n",
    "plt.ylabel('Accuracy')\n",
    "plt.title('Accuracy vs Max Depth using Gini Index')\n",
    "plt.show()"
   ]
  },
  {
   "cell_type": "code",
   "execution_count": 15,
   "metadata": {},
   "outputs": [
    {
     "name": "stdout",
     "output_type": "stream",
     "text": [
      "10 Fold Cross Validation Using Gini Index, Max Depth 10\n",
      "\n",
      "Average accuracy is  69.93174061433447\n"
     ]
    }
   ],
   "source": [
    "avg_accuracy = 0\n",
    "print(\"10 Fold Cross Validation Using Gini Index, Max Depth 10\")\n",
    "for train, test in kf.split(dataset):\n",
    "    train_data = dataset.iloc[train]\n",
    "    test_data = dataset.iloc[test]\n",
    "    dt = DecisionTreeClassifier(criterion='gini', max_depth=10, random_state=100)\n",
    "    dt.fit(train_data.drop('SalePrice', axis=1), train_data['SalePrice'])\n",
    "    y_pred = dt.predict(test_data.drop('SalePrice', axis=1))\n",
    "    # find average\n",
    "    avg_accuracy += accuracy_score(test_data['SalePrice'], y_pred)\n",
    "    # print(\"\\tAccuracy is \", accuracy_score(test_data['SalePrice'], y_pred)*100)\n",
    "print(\"\\nAverage accuracy is \", avg_accuracy/10*100)"
   ]
  },
  {
   "cell_type": "code",
   "execution_count": 16,
   "metadata": {},
   "outputs": [
    {
     "name": "stdout",
     "output_type": "stream",
     "text": [
      "10 Fold Cross Validation Using Entropy, Max Depth 10\n",
      "\n",
      "Average accuracy is  68.9419795221843\n"
     ]
    }
   ],
   "source": [
    "avg_accuracy = 0\n",
    "print(\"10 Fold Cross Validation Using Entropy, Max Depth 10\")\n",
    "for train, test in kf.split(dataset):\n",
    "    train_data = dataset.iloc[train]\n",
    "    test_data = dataset.iloc[test]\n",
    "    dt = DecisionTreeClassifier(criterion='entropy', max_depth=5, random_state=100)\n",
    "    dt.fit(train_data.drop('SalePrice', axis=1), train_data['SalePrice'])\n",
    "    y_pred = dt.predict(test_data.drop('SalePrice', axis=1))\n",
    "    # find average\n",
    "    avg_accuracy += accuracy_score(test_data['SalePrice'], y_pred)\n",
    "    # print(\"\\tAccuracy is \", accuracy_score(test_data['SalePrice'], y_pred)*100)\n",
    "print(\"\\nAverage accuracy is \", avg_accuracy/10*100)"
   ]
  },
  {
   "cell_type": "code",
   "execution_count": 27,
   "metadata": {},
   "outputs": [
    {
     "name": "stdout",
     "output_type": "stream",
     "text": [
      "Accuracy is  71.33105802047781\n"
     ]
    }
   ],
   "source": [
    "# Best Max Depth is 10, using Gini Index\n",
    "dt = DecisionTreeClassifier(criterion='gini', max_depth=10, random_state=100)\n",
    "dt.fit(train_data.drop('SalePrice', axis=1), train_data['SalePrice'])\n",
    "y_pred = dt.predict(test_data.drop('SalePrice', axis=1))\n",
    "print(\"Accuracy is \", accuracy_score(test_data['SalePrice'], y_pred)*100)"
   ]
  },
  {
   "cell_type": "code",
   "execution_count": 33,
   "metadata": {},
   "outputs": [
    {
     "data": {
      "text/plain": [
       "'dt-max10-gini.pdf'"
      ]
     },
     "execution_count": 33,
     "metadata": {},
     "output_type": "execute_result"
    }
   ],
   "source": [
    "class_names = ['0', '1', '2', '3']\n",
    "dot_data = tree.export_graphviz(dt, out_file=None,\n",
    "                                feature_names = train_data.drop('SalePrice', axis=1).columns,\n",
    "                                class_names = class_names,\n",
    "                                filled = True, rounded = True,\n",
    "                                special_characters = True)\n",
    "graph = graphviz.Source(dot_data) \n",
    "graph.render(\"dt-max10-gini\")"
   ]
  },
  {
   "cell_type": "code",
   "execution_count": null,
   "metadata": {},
   "outputs": [],
   "source": []
  }
 ],
 "metadata": {
  "kernelspec": {
   "display_name": "Python 3.10.0 64-bit",
   "language": "python",
   "name": "python3"
  },
  "language_info": {
   "codemirror_mode": {
    "name": "ipython",
    "version": 3
   },
   "file_extension": ".py",
   "mimetype": "text/x-python",
   "name": "python",
   "nbconvert_exporter": "python",
   "pygments_lexer": "ipython3",
   "version": "3.10.0"
  },
  "orig_nbformat": 4,
  "vscode": {
   "interpreter": {
    "hash": "949777d72b0d2535278d3dc13498b2535136f6dfe0678499012e853ee9abcab1"
   }
  }
 },
 "nbformat": 4,
 "nbformat_minor": 2
}
