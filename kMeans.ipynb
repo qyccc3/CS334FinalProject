{
 "cells": [
  {
   "cell_type": "code",
   "execution_count": 1,
   "metadata": {},
   "outputs": [],
   "source": [
    "import pandas as pd\n",
    "import numpy as np\n",
    "from sklearn.model_selection import train_test_split\n",
    "from sklearn.cluster import KMeans\n",
    "from sklearn.metrics import accuracy_score\n",
    "from sklearn.metrics import mean_squared_error\n",
    "import matplotlib.pyplot as plt\n",
    "import seaborn as sns\n"
   ]
  },
  {
   "cell_type": "code",
   "execution_count": 2,
   "metadata": {},
   "outputs": [],
   "source": [
    "dataset = pd.read_csv('./ManualPreprocessedAmesHousingClassification.csv')\n",
    "dataset = dataset[['Gr Liv Area', '1st Flr SF', 'Garage Area', 'Overall Qual', 'Total Bsmt SF','SalePrice']]"
   ]
  },
  {
   "cell_type": "code",
   "execution_count": 3,
   "metadata": {},
   "outputs": [
    {
     "data": {
      "image/png": "[encoded data removed]",
      "text/plain": [
       "<Figure size 432x288 with 1 Axes>"
      ]
     },
     "metadata": {
      "needs_background": "light"
     },
     "output_type": "display_data"
    }
   ],
   "source": [
    "kmeans = KMeans(n_clusters=4, random_state=0).fit(dataset[['Gr Liv Area', '1st Flr SF']], dataset['SalePrice'])\n",
    "labels = kmeans.labels_\n",
    "centroids = kmeans.cluster_centers_\n",
    "ax, fig = plt.subplots()\n",
    "plt.scatter(dataset['Gr Liv Area'], dataset['1st Flr SF'], c=labels, s=50, cmap='viridis')\n",
    "plt.show()\n"
   ]
  },
  {
   "cell_type": "code",
   "execution_count": 4,
   "metadata": {},
   "outputs": [
    {
     "name": "stdout",
     "output_type": "stream",
     "text": [
      "Mean Squared Error:  2.8521199586349533\n",
      "Arrucary:  0.20682523267838676\n"
     ]
    }
   ],
   "source": [
    "train_data, test_data = train_test_split(dataset, test_size=0.33, random_state=42)\n",
    "kmeans = KMeans(n_clusters=4)\n",
    "kmeans.fit(train_data[['1st Flr SF', 'Gr Liv Area']],train_data['SalePrice'])\n",
    "y_pred = kmeans.predict(test_data[['1st Flr SF', 'Gr Liv Area']])\n",
    "print(\"Mean Squared Error: \", mean_squared_error(y_pred, test_data['SalePrice']))\n",
    "print(\"Arrucary: \", accuracy_score(y_pred, test_data['SalePrice']))"
   ]
  },
  {
   "cell_type": "code",
   "execution_count": 7,
   "metadata": {},
   "outputs": [
    {
     "name": "stdout",
     "output_type": "stream",
     "text": [
      "Average Mean Squared Error:  1.9180887372013653\n",
      "Average Arrucary:  0.31058020477815695\n"
     ]
    }
   ],
   "source": [
    "# 10 Fold Cross Validation\n",
    "from sklearn.model_selection import KFold\n",
    "kf = KFold(n_splits=10)\n",
    "kf.get_n_splits(dataset)\n",
    "\n",
    "avg_mse = 0\n",
    "avg_acc = 0\n",
    "for train, test in kf.split(dataset):\n",
    "    train_data = dataset.iloc[train]\n",
    "    test_data = dataset.iloc[test]\n",
    "    kmeans = KMeans(n_clusters=4)\n",
    "    kmeans.fit(train_data.drop(\"SalePrice\", axis=1),train_data['SalePrice'])\n",
    "    y_pred = kmeans.predict(test_data.drop(\"SalePrice\", axis=1))\n",
    "    # print(\"Mean Squared Error: \", mean_squared_error(y_pred, test_data['SalePrice']))\n",
    "    # print(\"Arrucary: \", accuracy_score(y_pred, test_data['SalePrice']))\n",
    "    avg_mse += mean_squared_error(y_pred, test_data['SalePrice'])\n",
    "    avg_acc += accuracy_score(y_pred, test_data['SalePrice'])\n",
    "print(\"Average Mean Squared Error: \", avg_mse/10)\n",
    "print(\"Average Arrucary: \", avg_acc/10)"
   ]
  },
  {
   "cell_type": "code",
   "execution_count": 32,
   "metadata": {},
   "outputs": [],
   "source": [
    "dataset = pd.read_csv('./ManualPreprocessedAmesHousingClassification.csv')\n",
    "# Manually Selected Features\n",
    "dataset = dataset[['1st Flr SF', '2nd Flr SF', 'BsmtFin SF 1', 'Enclosed Porch', 'Garage Area', 'Gr Liv Area', 'Mas Vnr Area', 'Overall Qual', 'SalePrice']]\n",
    "\n",
    "# PCA on dataset\n",
    "from sklearn.decomposition import PCA\n",
    "pca = PCA(n_components=2)\n",
    "pca.fit(dataset.drop('SalePrice', axis=1))\n",
    "x_data = pca.transform(dataset.drop('SalePrice', axis=1))\n",
    "x_data = pd.DataFrame(x_data)\n",
    "y_data = dataset['SalePrice']\n",
    "y_data = pd.DataFrame(y_data)"
   ]
  },
  {
   "cell_type": "code",
   "execution_count": 33,
   "metadata": {},
   "outputs": [
    {
     "data": {
      "text/html": [
       "<div>\n",
       "<style scoped>\n",
       "    .dataframe tbody tr th:only-of-type {\n",
       "        vertical-align: middle;\n",
       "    }\n",
       "\n",
       "    .dataframe tbody tr th {\n",
       "        vertical-align: top;\n",
       "    }\n",
       "\n",
       "    .dataframe thead th {\n",
       "        text-align: right;\n",
       "    }\n",
       "</style>\n",
       "<table border=\"1\" class=\"dataframe\">\n",
       "  <thead>\n",
       "    <tr style=\"text-align: right;\">\n",
       "      <th></th>\n",
       "      <th>0</th>\n",
       "      <th>1</th>\n",
       "    </tr>\n",
       "  </thead>\n",
       "  <tbody>\n",
       "    <tr>\n",
       "      <th>0</th>\n",
       "      <td>270.214814</td>\n",
       "      <td>514.584650</td>\n",
       "    </tr>\n",
       "    <tr>\n",
       "      <th>1</th>\n",
       "      <td>-633.235898</td>\n",
       "      <td>256.104239</td>\n",
       "    </tr>\n",
       "    <tr>\n",
       "      <th>2</th>\n",
       "      <td>-58.746668</td>\n",
       "      <td>599.282390</td>\n",
       "    </tr>\n",
       "    <tr>\n",
       "      <th>3</th>\n",
       "      <td>909.295755</td>\n",
       "      <td>863.874202</td>\n",
       "    </tr>\n",
       "    <tr>\n",
       "      <th>4</th>\n",
       "      <td>231.448390</td>\n",
       "      <td>-150.234091</td>\n",
       "    </tr>\n",
       "  </tbody>\n",
       "</table>\n",
       "</div>"
      ],
      "text/plain": [
       "            0           1\n",
       "0  270.214814  514.584650\n",
       "1 -633.235898  256.104239\n",
       "2  -58.746668  599.282390\n",
       "3  909.295755  863.874202\n",
       "4  231.448390 -150.234091"
      ]
     },
     "execution_count": 33,
     "metadata": {},
     "output_type": "execute_result"
    }
   ],
   "source": [
    "x_data.head()"
   ]
  },
  {
   "cell_type": "code",
   "execution_count": 34,
   "metadata": {},
   "outputs": [
    {
     "data": {
      "text/html": [
       "<div>\n",
       "<style scoped>\n",
       "    .dataframe tbody tr th:only-of-type {\n",
       "        vertical-align: middle;\n",
       "    }\n",
       "\n",
       "    .dataframe tbody tr th {\n",
       "        vertical-align: top;\n",
       "    }\n",
       "\n",
       "    .dataframe thead th {\n",
       "        text-align: right;\n",
       "    }\n",
       "</style>\n",
       "<table border=\"1\" class=\"dataframe\">\n",
       "  <thead>\n",
       "    <tr style=\"text-align: right;\">\n",
       "      <th></th>\n",
       "      <th>SalePrice</th>\n",
       "    </tr>\n",
       "  </thead>\n",
       "  <tbody>\n",
       "    <tr>\n",
       "      <th>0</th>\n",
       "      <td>3.0</td>\n",
       "    </tr>\n",
       "    <tr>\n",
       "      <th>1</th>\n",
       "      <td>0.0</td>\n",
       "    </tr>\n",
       "    <tr>\n",
       "      <th>2</th>\n",
       "      <td>2.0</td>\n",
       "    </tr>\n",
       "    <tr>\n",
       "      <th>3</th>\n",
       "      <td>3.0</td>\n",
       "    </tr>\n",
       "    <tr>\n",
       "      <th>4</th>\n",
       "      <td>2.0</td>\n",
       "    </tr>\n",
       "  </tbody>\n",
       "</table>\n",
       "</div>"
      ],
      "text/plain": [
       "   SalePrice\n",
       "0        3.0\n",
       "1        0.0\n",
       "2        2.0\n",
       "3        3.0\n",
       "4        2.0"
      ]
     },
     "execution_count": 34,
     "metadata": {},
     "output_type": "execute_result"
    }
   ],
   "source": [
    "y_data.head()"
   ]
  },
  {
   "cell_type": "code",
   "execution_count": 35,
   "metadata": {},
   "outputs": [
    {
     "name": "stdout",
     "output_type": "stream",
     "text": [
      "Average Mean Squared Error:  2.4313993174061435\n",
      "Average Arrucary:  0.23481228668941978\n"
     ]
    }
   ],
   "source": [
    "kf = KFold(n_splits=10)\n",
    "kf.get_n_splits(dataset)\n",
    "avg_mse = 0\n",
    "avg_acc = 0\n",
    "for train, test in kf.split(x_data):\n",
    "    x_train = x_data.iloc[train]\n",
    "    x_test = x_data.iloc[test]\n",
    "    y_train = y_data.iloc[train]\n",
    "    y_test = y_data.iloc[test]\n",
    "    kmeans = KMeans(n_clusters=4)\n",
    "    kmeans.fit(x_train,y_train)\n",
    "    y_pred = kmeans.predict(x_test)\n",
    "    # print(\"Mean Squared Error: \", mean_squared_error(y_pred, test_data['SalePrice']))\n",
    "    # print(\"Arrucary: \", accuracy_score(y_pred, test_data['SalePrice']))\n",
    "    avg_mse += mean_squared_error(y_pred, y_test)\n",
    "    avg_acc += accuracy_score(y_pred, test_data['SalePrice'])\n",
    "print(\"Average Mean Squared Error: \", avg_mse/10)\n",
    "print(\"Average Arrucary: \", avg_acc/10)"
   ]
  },
  {
   "cell_type": "code",
   "execution_count": null,
   "metadata": {},
   "outputs": [],
   "source": []
  }
 ],
 "metadata": {
  "kernelspec": {
   "display_name": "Python 3.10.0 64-bit",
   "language": "python",
   "name": "python3"
  },
  "language_info": {
   "codemirror_mode": {
    "name": "ipython",
    "version": 3
   },
   "file_extension": ".py",
   "mimetype": "text/x-python",
   "name": "python",
   "nbconvert_exporter": "python",
   "pygments_lexer": "ipython3",
   "version": "3.10.0"
  },
  "orig_nbformat": 4,
  "vscode": {
   "interpreter": {
    "hash": "949777d72b0d2535278d3dc13498b2535136f6dfe0678499012e853ee9abcab1"
   }
  }
 },
 "nbformat": 4,
 "nbformat_minor": 2
}
